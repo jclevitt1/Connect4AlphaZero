{
 "cells": [
  {
   "cell_type": "code",
   "execution_count": 1,
   "id": "2db7e417",
   "metadata": {},
   "outputs": [],
   "source": [
    "import tensorflow as tf\n",
    "from tensorflow import keras\n"
   ]
  },
  {
   "cell_type": "code",
   "execution_count": 2,
   "id": "e3d87071",
   "metadata": {},
   "outputs": [
    {
     "name": "stdout",
     "output_type": "stream",
     "text": [
      "Downloading data from https://storage.googleapis.com/tensorflow/tf-keras-datasets/train-labels-idx1-ubyte.gz\n",
      "32768/29515 [=================================] - 0s 2us/step\n",
      "40960/29515 [=========================================] - 0s 1us/step\n",
      "Downloading data from https://storage.googleapis.com/tensorflow/tf-keras-datasets/train-images-idx3-ubyte.gz\n",
      "26427392/26421880 [==============================] - 7s 0us/step\n",
      "26435584/26421880 [==============================] - 7s 0us/step\n",
      "Downloading data from https://storage.googleapis.com/tensorflow/tf-keras-datasets/t10k-labels-idx1-ubyte.gz\n",
      "16384/5148 [===============================================================================================] - 0s 0us/step\n",
      "Downloading data from https://storage.googleapis.com/tensorflow/tf-keras-datasets/t10k-images-idx3-ubyte.gz\n",
      "4423680/4422102 [==============================] - 1s 0us/step\n",
      "4431872/4422102 [==============================] - 1s 0us/step\n"
     ]
    }
   ],
   "source": [
    "(x_train, y_train), (x_val, y_val) = keras.datasets.fashion_mnist.load_data()"
   ]
  },
  {
   "cell_type": "code",
   "execution_count": 3,
   "id": "1ecf1e07",
   "metadata": {},
   "outputs": [],
   "source": [
    "\n",
    "def preprocess(x, y):\n",
    "  x = tf.cast(x, tf.float32) / 255.0\n",
    "  y = tf.cast(y, tf.int64)\n",
    "\n",
    "  return x, y\n",
    "\n",
    "def create_dataset(xs, ys, n_classes=10):\n",
    "  ys = tf.one_hot(ys, depth=n_classes)\n",
    "  return tf.data.Dataset.from_tensor_slices((xs, ys)) \\\n",
    "    .map(preprocess) \\\n",
    "    .shuffle(len(ys)) \\\n",
    "    .batch(128)"
   ]
  },
  {
   "cell_type": "code",
   "execution_count": 4,
   "id": "1b3509cd",
   "metadata": {},
   "outputs": [],
   "source": [
    "train_dataset = create_dataset(x_train, y_train)\n",
    "val_dataset = create_dataset(x_val, y_val)"
   ]
  },
  {
   "cell_type": "code",
   "execution_count": 5,
   "id": "5aac18d5",
   "metadata": {},
   "outputs": [],
   "source": [
    "model = keras.Sequential([\n",
    "    keras.layers.Reshape(target_shape=(6 * 7,), input_shape=(6, 7)),\n",
    "    keras.layers.Dense(units=256, activation='relu'),\n",
    "    keras.layers.Dense(units=192, activation='relu'),\n",
    "    keras.layers.Dense(units=128, activation='relu'),\n",
    "    keras.layers.Dense(units=10, activation='softmax')\n",
    "])"
   ]
  },
  {
   "cell_type": "code",
   "execution_count": 6,
   "id": "84969d36",
   "metadata": {},
   "outputs": [
    {
     "name": "stdout",
     "output_type": "stream",
     "text": [
      "Epoch 1/10\n"
     ]
    },
    {
     "name": "stderr",
     "output_type": "stream",
     "text": [
      "/Users/jeremylevitt/opt/anaconda3/lib/python3.8/site-packages/tensorflow/python/util/dispatch.py:1096: UserWarning: \"`categorical_crossentropy` received `from_logits=True`, but the `output` argument was produced by a sigmoid or softmax activation and thus does not represent logits. Was this intended?\"\n",
      "  return dispatch_target(*args, **kwargs)\n"
     ]
    },
    {
     "name": "stdout",
     "output_type": "stream",
     "text": [
      "500/500 [==============================] - 4s 5ms/step - loss: 0.5013 - accuracy: 0.8212 - val_loss: 0.4628 - val_accuracy: 0.8281\n",
      "Epoch 2/10\n",
      "500/500 [==============================] - 3s 5ms/step - loss: 0.3542 - accuracy: 0.8705 - val_loss: 0.4261 - val_accuracy: 0.8398\n",
      "Epoch 3/10\n",
      "500/500 [==============================] - 3s 5ms/step - loss: 0.3229 - accuracy: 0.8799 - val_loss: 0.3047 - val_accuracy: 0.8750\n",
      "Epoch 4/10\n",
      "500/500 [==============================] - 3s 5ms/step - loss: 0.2944 - accuracy: 0.8901 - val_loss: 0.3123 - val_accuracy: 0.8945\n",
      "Epoch 5/10\n",
      "500/500 [==============================] - 3s 5ms/step - loss: 0.2769 - accuracy: 0.8976 - val_loss: 0.4593 - val_accuracy: 0.8711\n",
      "Epoch 6/10\n",
      "500/500 [==============================] - 3s 6ms/step - loss: 0.2629 - accuracy: 0.9012 - val_loss: 0.2993 - val_accuracy: 0.8945\n",
      "Epoch 7/10\n",
      "500/500 [==============================] - 3s 6ms/step - loss: 0.2528 - accuracy: 0.9050 - val_loss: 0.3317 - val_accuracy: 0.8867\n",
      "Epoch 8/10\n",
      "500/500 [==============================] - 3s 5ms/step - loss: 0.2400 - accuracy: 0.9085 - val_loss: 0.3545 - val_accuracy: 0.8906\n",
      "Epoch 9/10\n",
      "500/500 [==============================] - 3s 5ms/step - loss: 0.2327 - accuracy: 0.9124 - val_loss: 0.3271 - val_accuracy: 0.8750\n",
      "Epoch 10/10\n",
      "500/500 [==============================] - 3s 5ms/step - loss: 0.2198 - accuracy: 0.9181 - val_loss: 0.3525 - val_accuracy: 0.8945\n"
     ]
    }
   ],
   "source": [
    "model.compile(optimizer='adam', \n",
    "              loss=tf.losses.CategoricalCrossentropy(from_logits=True),\n",
    "              metrics=['accuracy'])\n",
    "\n",
    "history = model.fit(\n",
    "    train_dataset.repeat(), \n",
    "    epochs=10, \n",
    "    steps_per_epoch=500,\n",
    "    validation_data=val_dataset.repeat(), \n",
    "    validation_steps=2\n",
    ")"
   ]
  },
  {
   "cell_type": "code",
   "execution_count": 7,
   "id": "dbcedf63",
   "metadata": {},
   "outputs": [],
   "source": [
    "\n",
    "predictions = model.predict(val_dataset)"
   ]
  },
  {
   "cell_type": "code",
   "execution_count": 8,
   "id": "b42366e3",
   "metadata": {},
   "outputs": [
    {
     "data": {
      "text/plain": [
       "array([[9.8200053e-01, 4.0382235e-09, 3.5198528e-04, ..., 3.1753938e-12,\n",
       "        5.0770630e-08, 8.4940666e-12],\n",
       "       [1.5023162e-04, 3.0635935e-08, 9.8947185e-01, ..., 8.2212831e-10,\n",
       "        1.5115847e-07, 5.7085519e-09],\n",
       "       [1.7115613e-10, 5.4191795e-10, 2.0911375e-10, ..., 9.9807203e-01,\n",
       "        1.6862913e-08, 1.9252666e-03],\n",
       "       ...,\n",
       "       [4.7859450e-09, 9.9999130e-01, 6.5481145e-09, ..., 4.8029471e-12,\n",
       "        2.0374792e-10, 9.1174160e-12],\n",
       "       [2.7590397e-12, 1.0000000e+00, 6.1664497e-13, ..., 5.3241045e-16,\n",
       "        8.9430477e-14, 1.1509628e-14],\n",
       "       [7.4676210e-11, 3.5629150e-10, 1.5878882e-10, ..., 9.9997711e-01,\n",
       "        5.5583471e-09, 6.1524270e-06]], dtype=float32)"
      ]
     },
     "execution_count": 8,
     "metadata": {},
     "output_type": "execute_result"
    }
   ],
   "source": [
    "predictions"
   ]
  },
  {
   "cell_type": "code",
   "execution_count": null,
   "id": "77ff8960",
   "metadata": {},
   "outputs": [],
   "source": []
  }
 ],
 "metadata": {
  "kernelspec": {
   "display_name": "Python 3",
   "language": "python",
   "name": "python3"
  },
  "language_info": {
   "codemirror_mode": {
    "name": "ipython",
    "version": 3
   },
   "file_extension": ".py",
   "mimetype": "text/x-python",
   "name": "python",
   "nbconvert_exporter": "python",
   "pygments_lexer": "ipython3",
   "version": "3.8.8"
  }
 },
 "nbformat": 4,
 "nbformat_minor": 5
}
