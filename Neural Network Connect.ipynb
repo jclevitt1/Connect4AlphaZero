{
 "cells": [
  {
   "cell_type": "code",
   "execution_count": 3,
   "id": "a3b03962",
   "metadata": {},
   "outputs": [],
   "source": [
    "import tensorflow as tf\n",
    "import numpy as np\n",
    "import tensorflow.keras.backend as K\n",
    "import keras.layers as KL\n",
    "import connect as cn"
   ]
  },
  {
   "cell_type": "code",
   "execution_count": 4,
   "id": "ec4688ca",
   "metadata": {},
   "outputs": [],
   "source": [
    "#loss class for the neural network\n",
    "class Connect4Loss(tf.keras.losses.Loss):\n",
    "    #def __init__(self):\n",
    "        #super().__init__()\n",
    "        \n",
    "        \n",
    "    #let y_true be: [z_t, pi_t]\n",
    "    #where z_t is outcome of game, pi_t is probability vector of MCTS simulation\n",
    "    #let y_pred be: [v(s), p(s)]\n",
    "    #where v(s) is continuous board state value of the neural network, and p(s) is the probability vector given\n",
    "    #by the neural network.\n",
    "    #\n",
    "    #Note both p and pi are probability vectors of which move to choose next.\n",
    "    def call(y_true, y_pred):\n",
    "        z_t = y_true[0]\n",
    "        pi_t = y_true[1]\n",
    "        v_s = y_pred[0]\n",
    "        p_s = y_pred[1]\n",
    "        log_p = []\n",
    "        for element in p_s:\n",
    "            if element == 0:\n",
    "                log_p.append(0)\n",
    "            else:\n",
    "                log_p.append(np.log(element))\n",
    "        toReturn = (v_s - z_t)**2 - sum([a*b for a,b in zip(pi_t, log_p)])\n",
    "        return toReturn\n",
    "        "
   ]
  },
  {
   "cell_type": "code",
   "execution_count": 1,
   "id": "700e2000",
   "metadata": {},
   "outputs": [],
   "source": [
    "#for sure wrong. input will be a 3 element array with multiple arrays in it. check the documentation.\n",
    "def initNNet():\n",
    "    \n",
    "    input_board = KL.Input(shape = (6, 7))\n",
    "    input_prob = KL.Input(shape = (7,))\n",
    "    input_outcome = KL.Input(shape = (1,))\n",
    "    \n",
    "    x = Dense(42, activation = 'relu')(input_board)\n",
    "    x = Dense(31, activation = 'relu')(x)\n",
    "    x = Dense(21, activation = 'relu')(x)\n",
    "    x = Dense(7, activation = 'relu')(x)\n",
    "    x = Dense(1, activation = 'linear')\n",
    "    \n",
    "    y = Dense(7, activation = 'relu')(input_prob)\n",
    "    y = Dense(7, activation = 'relu')(y)\n",
    "    \n",
    "    return model"
   ]
  },
  {
   "cell_type": "code",
   "execution_count": null,
   "id": "6f7df353",
   "metadata": {},
   "outputs": [],
   "source": [
    "# define two sets of inputs\n",
    "inputA = Input(shape=(32,))\n",
    "inputB = Input(shape=(128,))\n",
    "# the first branch operates on the first input\n",
    "x = Dense(8, activation=\"relu\")(inputA)\n",
    "x = Dense(4, activation=\"relu\")(x)\n",
    "x = Model(inputs=inputA, outputs=x)\n",
    "# the second branch opreates on the second input\n",
    "y = Dense(64, activation=\"relu\")(inputB)\n",
    "y = Dense(32, activation=\"relu\")(y)\n",
    "y = Dense(4, activation=\"relu\")(y)\n",
    "y = Model(inputs=inputB, outputs=y)\n",
    "# combine the output of the two branches\n",
    "combined = concatenate([x.output, y.output])\n",
    "# apply a FC layer and then a regression prediction on the\n",
    "# combined outputs\n",
    "z = Dense(2, activation=\"relu\")(combined)\n",
    "z = Dense(1, activation=\"linear\")(z)\n",
    "# our model will accept the inputs of the two branches and\n",
    "# then output a single value\n",
    "model = Model(inputs=[x.input, y.input], outputs=z)"
   ]
  },
  {
   "cell_type": "code",
   "execution_count": null,
   "id": "2fa85d20",
   "metadata": {},
   "outputs": [],
   "source": [
    "def trainNNet(model, examples):\n",
    "    #examples argument will \n",
    "    model.compile(optimizer='adam', \n",
    "                  #put formula in on next line.\n",
    "              loss=Connect4Loss(),\n",
    "              metrics=['accuracy'])\n",
    "    \n",
    "    history = model.fit(\n",
    "        x = examples,\n",
    "        y = [examples[1], examples[2]],\n",
    "        #check documentation on model.fit. Probably an easy way to fit given a minimizing function without any validation.\n",
    "        epochs=10, \n",
    "        steps_per_epoch=500,\n",
    "        #not sure if we need validation since the minimizer is different than any usual minimizer\n",
    "        validation_data=examples, \n",
    "        validation_steps=2\n",
    "    )\n",
    "    return model"
   ]
  },
  {
   "cell_type": "code",
   "execution_count": null,
   "id": "1148525b",
   "metadata": {},
   "outputs": [],
   "source": [
    "def pit(newNet, oldNet):\n",
    "    #depending on criteria on win percentage:\n",
    "    return normalized win percentage (compared to oldNet)."
   ]
  },
  {
   "cell_type": "code",
   "execution_count": 29,
   "id": "210b0d84",
   "metadata": {},
   "outputs": [],
   "source": [
    "def policyIterSP(game):\n",
    "    nnet = initNNet()                                       # initialise random neural network\n",
    "    examples = []    \n",
    "    for i in range(numIters):\n",
    "        for e in range(numEps):\n",
    "            examples += executeEpisode(game, nnet)          # collect examples from this game\n",
    "        old_net = nnet\n",
    "        new_nnet = trainNNet(nnet, examples)                  \n",
    "        frac_win = pit(new_nnet, old_net)                      # compare new net with previous net\n",
    "        if frac_win > threshold: \n",
    "            nnet = new_nnet                                 # replace with new net            \n",
    "    return nnet\n",
    "\n",
    "def executeEpisode(game, nnet):\n",
    "    examples = []\n",
    "    s = game.startState()\n",
    "    mcts = MCTS()                                           # initialise search tree\n",
    "        \n",
    "    while True:\n",
    "        for _ in range(numMCTSSims):\n",
    "            mcts.search(s, game, nnet)\n",
    "        examples.append([s, mcts.pi(s), None])              # rewards can not be determined yet \n",
    "        a = random.choice(len(mcts.pi(s)), p=mcts.pi(s))    # sample action from improved policy\n",
    "        s = game.nextState(s,a)\n",
    "        if game.gameEnded(s):\n",
    "            examples = assignRewards(examples, game.gameReward(s)) \n",
    "            return examples\n"
   ]
  },
  {
   "cell_type": "code",
   "execution_count": null,
   "id": "11dcd595",
   "metadata": {},
   "outputs": [],
   "source": [
    "#this cell will be to define the x and y variables of the training dataset.\n",
    "\n",
    "#MINIMIZE THE FUNCTION:\n",
    "#\n",
    "#x = [game_state, probability_policy]\n",
    "\n",
    "#y = [actual outcome of the game.]\n"
   ]
  },
  {
   "cell_type": "code",
   "execution_count": 2,
   "id": "2ace496c",
   "metadata": {},
   "outputs": [],
   "source": [
    "#where vtheta is the function deriving the continuous value of the board state\n",
    "def neuralLoss(v_theta, st, zt, pit, p_theta):\n",
    "    error = v_theta(st) - zt\n",
    "    errorsq = K.square(error)\n",
    "    login = K.log(p_theta(st))\n",
    "    return errorsq - pit*login\n",
    "    "
   ]
  },
  {
   "cell_type": "code",
   "execution_count": 7,
   "id": "110eac7d",
   "metadata": {},
   "outputs": [
    {
     "name": "stdout",
     "output_type": "stream",
     "text": [
      "  |   |   |   |   |   |   | \n",
      "  |   |   | O |   |   |   | \n",
      "  |   | O |   |   |   |   | \n",
      "  | O |   |   |   |   |   | \n",
      "O |   |   |   |   |   |   | \n",
      "  |   |   |   |   |   |   | \n",
      "\n"
     ]
    }
   ],
   "source": [
    "game_state = [[0 for i in range(7)] for j in range(6)]\n",
    "game_state[1][0] = 1\n",
    "game_state[2][1] = 1\n",
    "game_state[3][2] = 1\n",
    "game_state[4][3] = 1\n",
    "firstGame = cn.connect(game_state)\n",
    "firstGame.printGame()"
   ]
  },
  {
   "cell_type": "code",
   "execution_count": 8,
   "id": "070f37da",
   "metadata": {},
   "outputs": [
    {
     "ename": "AttributeError",
     "evalue": "'connect' object has no attribute 'validMoves'",
     "output_type": "error",
     "traceback": [
      "\u001b[0;31m---------------------------------------------------------------------------\u001b[0m",
      "\u001b[0;31mAttributeError\u001b[0m                            Traceback (most recent call last)",
      "\u001b[0;32m<ipython-input-8-c4c50977c62d>\u001b[0m in \u001b[0;36m<module>\u001b[0;34m\u001b[0m\n\u001b[0;32m----> 1\u001b[0;31m \u001b[0mfirstGame\u001b[0m\u001b[0;34m.\u001b[0m\u001b[0mmakeMove\u001b[0m\u001b[0;34m(\u001b[0m\u001b[0;36m4\u001b[0m\u001b[0;34m)\u001b[0m\u001b[0;34m\u001b[0m\u001b[0;34m\u001b[0m\u001b[0m\n\u001b[0m\u001b[1;32m      2\u001b[0m \u001b[0mfirstGame\u001b[0m\u001b[0;34m.\u001b[0m\u001b[0mvalidMoves\u001b[0m\u001b[0;34m(\u001b[0m\u001b[0;34m)\u001b[0m\u001b[0;34m\u001b[0m\u001b[0;34m\u001b[0m\u001b[0m\n",
      "\u001b[0;32m~/Desktop/WINTER_PROJECT/connect.py\u001b[0m in \u001b[0;36mmakeMove\u001b[0;34m(self, col)\u001b[0m\n\u001b[1;32m     66\u001b[0m                 \u001b[0mself\u001b[0m\u001b[0;34m.\u001b[0m\u001b[0mgame_state\u001b[0m\u001b[0;34m[\u001b[0m\u001b[0mrow\u001b[0m\u001b[0;34m]\u001b[0m\u001b[0;34m[\u001b[0m\u001b[0mcol\u001b[0m\u001b[0;34m]\u001b[0m \u001b[0;34m=\u001b[0m \u001b[0;36m1\u001b[0m\u001b[0;34m\u001b[0m\u001b[0;34m\u001b[0m\u001b[0m\n\u001b[1;32m     67\u001b[0m                 \u001b[0mself\u001b[0m\u001b[0;34m.\u001b[0m\u001b[0mrow_sumO\u001b[0m\u001b[0;34m[\u001b[0m\u001b[0mrow\u001b[0m\u001b[0;34m]\u001b[0m \u001b[0;34m+=\u001b[0m \u001b[0;36m1\u001b[0m\u001b[0;34m\u001b[0m\u001b[0;34m\u001b[0m\u001b[0m\n\u001b[0;32m---> 68\u001b[0;31m                 \u001b[0mself\u001b[0m\u001b[0;34m.\u001b[0m\u001b[0mcol_sumO\u001b[0m\u001b[0;34m[\u001b[0m\u001b[0mcol\u001b[0m\u001b[0;34m]\u001b[0m \u001b[0;34m+=\u001b[0m \u001b[0;36m1\u001b[0m\u001b[0;34m\u001b[0m\u001b[0;34m\u001b[0m\u001b[0m\n\u001b[0m\u001b[1;32m     69\u001b[0m             \u001b[0;32melse\u001b[0m\u001b[0;34m:\u001b[0m\u001b[0;34m\u001b[0m\u001b[0;34m\u001b[0m\u001b[0m\n\u001b[1;32m     70\u001b[0m                 \u001b[0mself\u001b[0m\u001b[0;34m.\u001b[0m\u001b[0mgame_state\u001b[0m\u001b[0;34m[\u001b[0m\u001b[0mrow\u001b[0m\u001b[0;34m]\u001b[0m\u001b[0;34m[\u001b[0m\u001b[0mcol\u001b[0m\u001b[0;34m]\u001b[0m \u001b[0;34m=\u001b[0m \u001b[0;34m-\u001b[0m\u001b[0;36m1\u001b[0m\u001b[0;34m\u001b[0m\u001b[0;34m\u001b[0m\u001b[0m\n",
      "\u001b[0;31mAttributeError\u001b[0m: 'connect' object has no attribute 'validMoves'"
     ]
    }
   ],
   "source": [
    "firstGame.makeMove(4)\n",
    "firstGame.validMoves()\n"
   ]
  },
  {
   "cell_type": "code",
   "execution_count": 236,
   "id": "89201239",
   "metadata": {},
   "outputs": [
    {
     "name": "stdout",
     "output_type": "stream",
     "text": [
      "-1\n",
      "  |   |   |   |   |   |   | \n",
      "  |   |   | O |   |   |   | \n",
      "  |   | O |   |   |   |   | \n",
      "  | O |   |   |   |   |   | \n",
      "O |   |   |   | X |   |   | \n",
      "  |   |   |   | O |   |   | \n",
      "\n"
     ]
    }
   ],
   "source": [
    "firstGame.makeMove(-4)\n",
    "firstGame.printGame()"
   ]
  },
  {
   "cell_type": "code",
   "execution_count": 230,
   "id": "e5da3ca4",
   "metadata": {},
   "outputs": [
    {
     "name": "stdout",
     "output_type": "stream",
     "text": [
      "-1\n",
      "  |   |   |   |   |   |   | \n",
      "  |   |   | O |   |   |   | \n",
      "  |   | O |   |   |   |   | \n",
      "  | O |   |   | O |   |   | \n",
      "O |   |   |   | X |   |   | \n",
      "  |   |   |   | O |   |   | \n",
      "\n"
     ]
    }
   ],
   "source": [
    "firstGame.makeMove(4)\n",
    "firstGame.printGame()"
   ]
  },
  {
   "cell_type": "code",
   "execution_count": null,
   "id": "651df7d0",
   "metadata": {},
   "outputs": [],
   "source": []
  }
 ],
 "metadata": {
  "kernelspec": {
   "display_name": "Python 3",
   "language": "python",
   "name": "python3"
  },
  "language_info": {
   "codemirror_mode": {
    "name": "ipython",
    "version": 3
   },
   "file_extension": ".py",
   "mimetype": "text/x-python",
   "name": "python",
   "nbconvert_exporter": "python",
   "pygments_lexer": "ipython3",
   "version": "3.8.8"
  }
 },
 "nbformat": 4,
 "nbformat_minor": 5
}
