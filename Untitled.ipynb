{
 "cells": [
  {
   "cell_type": "code",
   "execution_count": 1,
   "id": "4121256f",
   "metadata": {},
   "outputs": [],
   "source": [
    "import tensorflow as tf\n",
    "import connect as cn\n",
    "import ConnectState as cns"
   ]
  },
  {
   "cell_type": "code",
   "execution_count": 8,
   "id": "3f20716a",
   "metadata": {},
   "outputs": [],
   "source": [
    "x1 = tf.constant(3)\n",
    "x2 = tf.constant(4)"
   ]
  },
  {
   "cell_type": "code",
   "execution_count": 8,
   "id": "20b82eb8",
   "metadata": {},
   "outputs": [],
   "source": [
    "\n",
    "def cool(x):\n",
    "    return x+1"
   ]
  },
  {
   "cell_type": "code",
   "execution_count": 11,
   "id": "f9e51085",
   "metadata": {},
   "outputs": [
    {
     "data": {
      "text/plain": [
       "-0.4"
      ]
     },
     "execution_count": 11,
     "metadata": {},
     "output_type": "execute_result"
    }
   ],
   "source": [
    "pi_t = [1, 2]\n",
    "log_p = [-0.2, -0.1]\n",
    "\n",
    "sum([a*b for a,b in zip(pi_t, log_p)])"
   ]
  },
  {
   "cell_type": "code",
   "execution_count": 11,
   "id": "6a350b2a",
   "metadata": {},
   "outputs": [],
   "source": [
    "test_state = [[0 for i in range(6)] for j in range(7)]\n",
    "test_state[0][2] = 1\n"
   ]
  },
  {
   "cell_type": "code",
   "execution_count": 2,
   "id": "713c5e82",
   "metadata": {},
   "outputs": [],
   "source": [
    "game = cn.connect()\n",
    "start = game.startingState()\n",
    "state = game.nextState(start, 2)"
   ]
  },
  {
   "cell_type": "code",
   "execution_count": 3,
   "id": "76d0b231",
   "metadata": {},
   "outputs": [
    {
     "data": {
      "text/plain": [
       "[[0, 1, 0, 0, 0, 0, 0],\n",
       " [0, 0, 0, 0, 0, 0, 0],\n",
       " [0, 0, 0, 0, 0, 0, 0],\n",
       " [0, 0, 0, 0, 0, 0, 0],\n",
       " [0, 0, 0, 0, 0, 0, 0],\n",
       " [0, 0, 0, 0, 0, 0, 0]]"
      ]
     },
     "execution_count": 3,
     "metadata": {},
     "output_type": "execute_result"
    }
   ],
   "source": [
    "state.s"
   ]
  },
  {
   "cell_type": "code",
   "execution_count": 4,
   "id": "f9011463",
   "metadata": {},
   "outputs": [
    {
     "name": "stdout",
     "output_type": "stream",
     "text": [
      "  |   |   |   |   |   |   | \n",
      "  |   |   |   |   |   |   | \n",
      "  |   |   |   |   |   |   | \n",
      "  |   |   |   |   |   |   | \n",
      "  |   |   |   |   |   |   | \n",
      "  | O |   |   |   |   |   | \n",
      "\n"
     ]
    }
   ],
   "source": [
    "game.printGame(state)"
   ]
  },
  {
   "cell_type": "code",
   "execution_count": 6,
   "id": "bf8d0a74",
   "metadata": {},
   "outputs": [
    {
     "data": {
      "text/plain": [
       "[-1, -2, -3, -4, -5, -6, -7]"
      ]
     },
     "execution_count": 6,
     "metadata": {},
     "output_type": "execute_result"
    }
   ],
   "source": [
    "game.getValidActions(state)"
   ]
  },
  {
   "cell_type": "code",
   "execution_count": null,
   "id": "9ea17213",
   "metadata": {},
   "outputs": [],
   "source": [
    "###IDEA: SINCE THE INPUT REQUIRES ONLY 3 THINGS (STATE OF BOARD, WIN/LOSS, AND PROB VECTOR)\n",
    "###WE CAN \"FAKE\" THE MCTS PROCESS AND TEST THE NEURAL NETWORK ON ITS OWN. THIS WILL ALLOW US TO BETTER LEARN HOW\n",
    "###THE FUCK THE NEURAL NETWORK WORKS LMAO."
   ]
  }
 ],
 "metadata": {
  "kernelspec": {
   "display_name": "Python 3",
   "language": "python",
   "name": "python3"
  },
  "language_info": {
   "codemirror_mode": {
    "name": "ipython",
    "version": 3
   },
   "file_extension": ".py",
   "mimetype": "text/x-python",
   "name": "python",
   "nbconvert_exporter": "python",
   "pygments_lexer": "ipython3",
   "version": "3.8.8"
  }
 },
 "nbformat": 4,
 "nbformat_minor": 5
}
